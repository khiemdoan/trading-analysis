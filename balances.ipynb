{
 "cells": [
  {
   "cell_type": "code",
   "execution_count": 16,
   "id": "876d1af7-9a90-4d63-b2b0-0af719e46b7a",
   "metadata": {
    "tags": []
   },
   "outputs": [],
   "source": [
    "import sys\n",
    "from dotenv import dotenv_values\n",
    "from binance.spot import Spot\n",
    "import pandas as pd\n",
    "import matplotlib\n",
    "import matplotlib.pyplot as plt\n",
    "import seaborn as sns\n",
    "import time\n",
    "from datetime import datetime"
   ]
  },
  {
   "cell_type": "code",
   "execution_count": 17,
   "id": "00ea53fa-f64c-4058-9807-4b4a87e0a168",
   "metadata": {
    "tags": []
   },
   "outputs": [
    {
     "name": "stdout",
     "output_type": "stream",
     "text": [
      "3.11.2 (main, Feb  8 2023, 00:00:00) [GCC 12.2.1 20221121 (Red Hat 12.2.1-4)]\n",
      "Binance client: 2.0.0\n",
      "Pandas verrsion: 1.5.3\n",
      "Matplotlib version: 3.7.1\n",
      "Seaborn version: 0.12.2\n"
     ]
    }
   ],
   "source": [
    "print(sys.version)\n",
    "from binance.__version__ import __version__ as binance_version\n",
    "print(f'Binance client: {binance_version}')\n",
    "print(f'Pandas verrsion: {pd.__version__}')\n",
    "print(f'Matplotlib version: {matplotlib.__version__}')\n",
    "print(f'Seaborn version: {sns.__version__}')"
   ]
  },
  {
   "cell_type": "code",
   "execution_count": 18,
   "id": "f06c17f1-044c-4fe8-82e1-eb9a1e788b50",
   "metadata": {
    "tags": []
   },
   "outputs": [],
   "source": [
    "sns.set_style('whitegrid')\n",
    "sns.set_context(\"paper\")\n",
    "config = dotenv_values('env')"
   ]
  },
  {
   "cell_type": "code",
   "execution_count": 19,
   "id": "14306b55-d83e-440e-a04e-058576269cfe",
   "metadata": {
    "tags": []
   },
   "outputs": [
    {
     "name": "stdout",
     "output_type": "stream",
     "text": [
      "Server time: 1679568864957 ~ 2023-03-23 17:54:24.957000\n"
     ]
    }
   ],
   "source": [
    "api_key = config.get('API_KEY')\n",
    "secret_key = config.get('SECRET_KEY')\n",
    "client = Spot(api_key, secret_key)\n",
    "timestamp = binance_client.time()[\"serverTime\"]\n",
    "print(f'Server time: {timestamp} ~ {datetime.fromtimestamp(timestamp / 1000)}')"
   ]
  },
  {
   "cell_type": "code",
   "execution_count": 20,
   "id": "43219a41-ec4e-4022-b953-cc255989a175",
   "metadata": {
    "tags": []
   },
   "outputs": [],
   "source": [
    "tickers = client.ticker_24hr()\n",
    "tickers = pd.DataFrame(tickers)\n",
    "tickers = tickers.astype({'symbol': 'str', 'lastPrice': 'float64'})\n",
    "tickers = tickers[tickers['symbol'].str.endswith('BUSD')]\n",
    "tickers = tickers.assign(asset=lambda r: r.symbol.str[:-4])\n",
    "tickers.reset_index(drop=True, inplace=True)"
   ]
  },
  {
   "cell_type": "code",
   "execution_count": 21,
   "id": "147b98ae-88e9-48df-9fc5-9423957053ea",
   "metadata": {
    "tags": []
   },
   "outputs": [
    {
     "data": {
      "text/html": [
       "<div>\n",
       "<style scoped>\n",
       "    .dataframe tbody tr th:only-of-type {\n",
       "        vertical-align: middle;\n",
       "    }\n",
       "\n",
       "    .dataframe tbody tr th {\n",
       "        vertical-align: top;\n",
       "    }\n",
       "\n",
       "    .dataframe thead th {\n",
       "        text-align: right;\n",
       "    }\n",
       "</style>\n",
       "<table border=\"1\" class=\"dataframe\">\n",
       "  <thead>\n",
       "    <tr style=\"text-align: right;\">\n",
       "      <th></th>\n",
       "      <th>symbol</th>\n",
       "      <th>priceChange</th>\n",
       "      <th>priceChangePercent</th>\n",
       "      <th>weightedAvgPrice</th>\n",
       "      <th>prevClosePrice</th>\n",
       "      <th>lastPrice</th>\n",
       "      <th>lastQty</th>\n",
       "      <th>bidPrice</th>\n",
       "      <th>bidQty</th>\n",
       "      <th>askPrice</th>\n",
       "      <th>...</th>\n",
       "      <th>highPrice</th>\n",
       "      <th>lowPrice</th>\n",
       "      <th>volume</th>\n",
       "      <th>quoteVolume</th>\n",
       "      <th>openTime</th>\n",
       "      <th>closeTime</th>\n",
       "      <th>firstId</th>\n",
       "      <th>lastId</th>\n",
       "      <th>count</th>\n",
       "      <th>asset</th>\n",
       "    </tr>\n",
       "  </thead>\n",
       "  <tbody>\n",
       "    <tr>\n",
       "      <th>0</th>\n",
       "      <td>BNBBUSD</td>\n",
       "      <td>-0.90000000</td>\n",
       "      <td>-0.275</td>\n",
       "      <td>325.21171667</td>\n",
       "      <td>326.80000000</td>\n",
       "      <td>325.8000</td>\n",
       "      <td>0.61300000</td>\n",
       "      <td>325.80000000</td>\n",
       "      <td>29.45000000</td>\n",
       "      <td>325.90000000</td>\n",
       "      <td>...</td>\n",
       "      <td>331.30000000</td>\n",
       "      <td>316.80000000</td>\n",
       "      <td>260935.26200000</td>\n",
       "      <td>84859204.49350000</td>\n",
       "      <td>1679482465087</td>\n",
       "      <td>1679568865087</td>\n",
       "      <td>201658446</td>\n",
       "      <td>201820423</td>\n",
       "      <td>161978</td>\n",
       "      <td>BNB</td>\n",
       "    </tr>\n",
       "    <tr>\n",
       "      <th>1</th>\n",
       "      <td>BTCBUSD</td>\n",
       "      <td>-512.60000000</td>\n",
       "      <td>-1.818</td>\n",
       "      <td>27838.13540553</td>\n",
       "      <td>28193.65000000</td>\n",
       "      <td>27681.0500</td>\n",
       "      <td>0.00092000</td>\n",
       "      <td>27681.05000000</td>\n",
       "      <td>5.00600000</td>\n",
       "      <td>27681.06000000</td>\n",
       "      <td>...</td>\n",
       "      <td>28922.00000000</td>\n",
       "      <td>26666.00000000</td>\n",
       "      <td>43524.56327000</td>\n",
       "      <td>1211642685.77700920</td>\n",
       "      <td>1679482465767</td>\n",
       "      <td>1679568865767</td>\n",
       "      <td>965113834</td>\n",
       "      <td>965980925</td>\n",
       "      <td>867092</td>\n",
       "      <td>BTC</td>\n",
       "    </tr>\n",
       "    <tr>\n",
       "      <th>2</th>\n",
       "      <td>XRPBUSD</td>\n",
       "      <td>-0.00950000</td>\n",
       "      <td>-2.101</td>\n",
       "      <td>0.43507310</td>\n",
       "      <td>0.45210000</td>\n",
       "      <td>0.4426</td>\n",
       "      <td>2783.00000000</td>\n",
       "      <td>0.44260000</td>\n",
       "      <td>94913.00000000</td>\n",
       "      <td>0.44270000</td>\n",
       "      <td>...</td>\n",
       "      <td>0.45600000</td>\n",
       "      <td>0.40980000</td>\n",
       "      <td>277102515.00000000</td>\n",
       "      <td>120559851.14830000</td>\n",
       "      <td>1679482462028</td>\n",
       "      <td>1679568862028</td>\n",
       "      <td>84984732</td>\n",
       "      <td>85245615</td>\n",
       "      <td>260884</td>\n",
       "      <td>XRP</td>\n",
       "    </tr>\n",
       "    <tr>\n",
       "      <th>3</th>\n",
       "      <td>ETHBUSD</td>\n",
       "      <td>-36.54000000</td>\n",
       "      <td>-2.038</td>\n",
       "      <td>1771.32622720</td>\n",
       "      <td>1792.60000000</td>\n",
       "      <td>1756.0600</td>\n",
       "      <td>0.01070000</td>\n",
       "      <td>1756.06000000</td>\n",
       "      <td>10.13070000</td>\n",
       "      <td>1756.07000000</td>\n",
       "      <td>...</td>\n",
       "      <td>1822.89000000</td>\n",
       "      <td>1714.33000000</td>\n",
       "      <td>316226.95070000</td>\n",
       "      <td>560141091.52307400</td>\n",
       "      <td>1679482465331</td>\n",
       "      <td>1679568865331</td>\n",
       "      <td>469966917</td>\n",
       "      <td>470435671</td>\n",
       "      <td>468755</td>\n",
       "      <td>ETH</td>\n",
       "    </tr>\n",
       "    <tr>\n",
       "      <th>4</th>\n",
       "      <td>BCHABCBUSD</td>\n",
       "      <td>0.00000000</td>\n",
       "      <td>0.000</td>\n",
       "      <td>0.00000000</td>\n",
       "      <td>220.16000000</td>\n",
       "      <td>0.0000</td>\n",
       "      <td>0.00000000</td>\n",
       "      <td>0.00000000</td>\n",
       "      <td>0.00000000</td>\n",
       "      <td>0.00000000</td>\n",
       "      <td>...</td>\n",
       "      <td>0.00000000</td>\n",
       "      <td>0.00000000</td>\n",
       "      <td>0.00000000</td>\n",
       "      <td>0.00000000</td>\n",
       "      <td>1678936363566</td>\n",
       "      <td>1679022763566</td>\n",
       "      <td>-1</td>\n",
       "      <td>-1</td>\n",
       "      <td>0</td>\n",
       "      <td>BCHABC</td>\n",
       "    </tr>\n",
       "  </tbody>\n",
       "</table>\n",
       "<p>5 rows × 22 columns</p>\n",
       "</div>"
      ],
      "text/plain": [
       "       symbol    priceChange priceChangePercent weightedAvgPrice  \\\n",
       "0     BNBBUSD    -0.90000000             -0.275     325.21171667   \n",
       "1     BTCBUSD  -512.60000000             -1.818   27838.13540553   \n",
       "2     XRPBUSD    -0.00950000             -2.101       0.43507310   \n",
       "3     ETHBUSD   -36.54000000             -2.038    1771.32622720   \n",
       "4  BCHABCBUSD     0.00000000              0.000       0.00000000   \n",
       "\n",
       "   prevClosePrice   lastPrice        lastQty        bidPrice          bidQty  \\\n",
       "0    326.80000000    325.8000     0.61300000    325.80000000     29.45000000   \n",
       "1  28193.65000000  27681.0500     0.00092000  27681.05000000      5.00600000   \n",
       "2      0.45210000      0.4426  2783.00000000      0.44260000  94913.00000000   \n",
       "3   1792.60000000   1756.0600     0.01070000   1756.06000000     10.13070000   \n",
       "4    220.16000000      0.0000     0.00000000      0.00000000      0.00000000   \n",
       "\n",
       "         askPrice  ...       highPrice        lowPrice              volume  \\\n",
       "0    325.90000000  ...    331.30000000    316.80000000     260935.26200000   \n",
       "1  27681.06000000  ...  28922.00000000  26666.00000000      43524.56327000   \n",
       "2      0.44270000  ...      0.45600000      0.40980000  277102515.00000000   \n",
       "3   1756.07000000  ...   1822.89000000   1714.33000000     316226.95070000   \n",
       "4      0.00000000  ...      0.00000000      0.00000000          0.00000000   \n",
       "\n",
       "           quoteVolume       openTime      closeTime    firstId     lastId  \\\n",
       "0    84859204.49350000  1679482465087  1679568865087  201658446  201820423   \n",
       "1  1211642685.77700920  1679482465767  1679568865767  965113834  965980925   \n",
       "2   120559851.14830000  1679482462028  1679568862028   84984732   85245615   \n",
       "3   560141091.52307400  1679482465331  1679568865331  469966917  470435671   \n",
       "4           0.00000000  1678936363566  1679022763566         -1         -1   \n",
       "\n",
       "    count   asset  \n",
       "0  161978     BNB  \n",
       "1  867092     BTC  \n",
       "2  260884     XRP  \n",
       "3  468755     ETH  \n",
       "4       0  BCHABC  \n",
       "\n",
       "[5 rows x 22 columns]"
      ]
     },
     "execution_count": 21,
     "metadata": {},
     "output_type": "execute_result"
    }
   ],
   "source": [
    "tickers.head()"
   ]
  },
  {
   "cell_type": "code",
   "execution_count": 22,
   "id": "05ce41cb-0f88-4203-ab5d-b33ab70ca6d2",
   "metadata": {
    "tags": []
   },
   "outputs": [],
   "source": [
    "info = client.account()"
   ]
  },
  {
   "cell_type": "code",
   "execution_count": 23,
   "id": "0166d27f-598f-4b73-a245-dade9eb4ff57",
   "metadata": {
    "tags": []
   },
   "outputs": [
    {
     "name": "stdout",
     "output_type": "stream",
     "text": [
      "USDT single positional indexer is out-of-bounds\n",
      "BUSD single positional indexer is out-of-bounds\n",
      "ETHW single positional indexer is out-of-bounds\n"
     ]
    }
   ],
   "source": [
    "balances = pd.DataFrame(info['balances'])\n",
    "balances = balances.astype({'asset': 'str', 'free': 'float64', 'locked': 'float64'})\n",
    "balances = balances.loc[(balances['free'] > 0) | (balances['locked'] > 0)]\n",
    "balances = balances.assign(total=lambda r: r.free + r.locked)\n",
    "balances = balances[balances['asset'] != 'NFT']\n",
    "for index, balance in balances.iterrows():\n",
    "    try:\n",
    "        price = tickers[tickers['asset'] == balance['asset']]['lastPrice'].iloc[0]\n",
    "        balances.loc[index, ['free', 'locked', 'total']] = balance[['free', 'locked', 'total']] * price\n",
    "    except Exception as ex:\n",
    "        print(balance['asset'], ex)\n",
    "balances.reset_index(drop=True, inplace=True)"
   ]
  },
  {
   "cell_type": "code",
   "execution_count": 24,
   "id": "87089a59-037b-4fe9-8598-bbf2a79a36b9",
   "metadata": {
    "tags": []
   },
   "outputs": [
    {
     "data": {
      "text/html": [
       "<div>\n",
       "<style scoped>\n",
       "    .dataframe tbody tr th:only-of-type {\n",
       "        vertical-align: middle;\n",
       "    }\n",
       "\n",
       "    .dataframe tbody tr th {\n",
       "        vertical-align: top;\n",
       "    }\n",
       "\n",
       "    .dataframe thead th {\n",
       "        text-align: right;\n",
       "    }\n",
       "</style>\n",
       "<table border=\"1\" class=\"dataframe\">\n",
       "  <thead>\n",
       "    <tr style=\"text-align: right;\">\n",
       "      <th></th>\n",
       "      <th>asset</th>\n",
       "      <th>free</th>\n",
       "      <th>locked</th>\n",
       "      <th>total</th>\n",
       "    </tr>\n",
       "  </thead>\n",
       "  <tbody>\n",
       "    <tr>\n",
       "      <th>0</th>\n",
       "      <td>BTC</td>\n",
       "      <td>0.177436</td>\n",
       "      <td>0.0000</td>\n",
       "      <td>0.177436</td>\n",
       "    </tr>\n",
       "    <tr>\n",
       "      <th>1</th>\n",
       "      <td>ETH</td>\n",
       "      <td>0.167528</td>\n",
       "      <td>0.0000</td>\n",
       "      <td>0.167528</td>\n",
       "    </tr>\n",
       "    <tr>\n",
       "      <th>2</th>\n",
       "      <td>NEO</td>\n",
       "      <td>0.000000</td>\n",
       "      <td>7.9552</td>\n",
       "      <td>7.955200</td>\n",
       "    </tr>\n",
       "    <tr>\n",
       "      <th>3</th>\n",
       "      <td>BNB</td>\n",
       "      <td>0.042445</td>\n",
       "      <td>85.3596</td>\n",
       "      <td>85.402045</td>\n",
       "    </tr>\n",
       "    <tr>\n",
       "      <th>4</th>\n",
       "      <td>QTUM</td>\n",
       "      <td>0.000000</td>\n",
       "      <td>5.6270</td>\n",
       "      <td>5.627000</td>\n",
       "    </tr>\n",
       "  </tbody>\n",
       "</table>\n",
       "</div>"
      ],
      "text/plain": [
       "  asset      free   locked      total\n",
       "0   BTC  0.177436   0.0000   0.177436\n",
       "1   ETH  0.167528   0.0000   0.167528\n",
       "2   NEO  0.000000   7.9552   7.955200\n",
       "3   BNB  0.042445  85.3596  85.402045\n",
       "4  QTUM  0.000000   5.6270   5.627000"
      ]
     },
     "execution_count": 24,
     "metadata": {},
     "output_type": "execute_result"
    }
   ],
   "source": [
    "balances.head()"
   ]
  },
  {
   "cell_type": "code",
   "execution_count": 25,
   "id": "97e60096-21dd-448b-8572-7262ee9b9fb1",
   "metadata": {
    "tags": []
   },
   "outputs": [
    {
     "data": {
      "image/png": "[encoded data removed]",
      "text/plain": [
       "<Figure size 2400x800 with 3 Axes>"
      ]
     },
     "metadata": {},
     "output_type": "display_data"
    }
   ],
   "source": [
    "%matplotlib inline\n",
    "top = 10\n",
    "colors = sns.color_palette()\n",
    "figure, axes = plt.subplots(1, 3, figsize=(24, 8))\n",
    "df = balances.sort_values(by='free', ascending=False)[:top]\n",
    "sns.barplot(ax=axes[0], data=df, x='asset', y='free').set(title='Free', ylabel=None)\n",
    "for bars in axes[0].containers:\n",
    "    axes[0].bar_label(bars, fmt='%.1f')\n",
    "df = balances.sort_values(by='locked', ascending=False)[:top]\n",
    "sns.barplot(ax=axes[1], data=df, x='asset', y='locked').set(title='Locked', ylabel=None)\n",
    "for bars in axes[1].containers:\n",
    "    axes[1].bar_label(bars, fmt='%.1f')\n",
    "df = balances.sort_values(by='total', ascending=False)[:top]\n",
    "sns.barplot(ax=axes[2], data=df, x='asset', y='total').set(title='Total', ylabel=None)\n",
    "for bars in axes[2].containers:\n",
    "    axes[2].bar_label(bars, fmt='%.1f')\n",
    "plt.show()"
   ]
  }
 ],
 "metadata": {
  "kernelspec": {
   "display_name": "Python 3 (ipykernel)",
   "language": "python",
   "name": "python3"
  },
  "language_info": {
   "codemirror_mode": {
    "name": "ipython",
    "version": 3
   },
   "file_extension": ".py",
   "mimetype": "text/x-python",
   "name": "python",
   "nbconvert_exporter": "python",
   "pygments_lexer": "ipython3",
   "version": "3.11.2"
  }
 },
 "nbformat": 4,
 "nbformat_minor": 5
}
